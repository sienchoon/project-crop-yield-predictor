{
 "cells": [
  {
   "cell_type": "code",
   "execution_count": 1,
   "metadata": {},
   "outputs": [],
   "source": [
    "import pandas as pd\n",
    "import joblib\n",
    "import matplotlib.pyplot as plt"
   ]
  },
  {
   "cell_type": "code",
   "execution_count": 2,
   "metadata": {},
   "outputs": [],
   "source": [
    "# Load your trained pipeline (make sure to provide the correct path to your pipeline file)\n",
    "model_pipeline = joblib.load('RF Model.pkl')"
   ]
  },
  {
   "cell_type": "code",
   "execution_count": 3,
   "metadata": {},
   "outputs": [],
   "source": [
    "# Set your input values here\n",
    "input_features = pd.DataFrame({\n",
    "    'Crop': ['Bajra'],\n",
    "    'Season': ['Kharif'],\n",
    "    'Area': [32415],\n",
    "    'Annual_Rainfall': [861.9],\n",
    "    'Fertilizer': [5430160.8],\n",
    "    'Pesticide': [10696.95],\n",
    "    'Production': [47506]\n",
    "})"
   ]
  },
  {
   "cell_type": "code",
   "execution_count": 4,
   "metadata": {},
   "outputs": [
    {
     "name": "stdout",
     "output_type": "stream",
     "text": [
      "Predicted Crop Yield: 1.5462346338799993\n"
     ]
    }
   ],
   "source": [
    "# Predict the crop yield using the pipeline #With State dropped\n",
    "predicted_yield = model_pipeline.predict(input_features)\n",
    "print(f'Predicted Crop Yield: {predicted_yield[0]}')"
   ]
  },
  {
   "cell_type": "code",
   "execution_count": 5,
   "metadata": {},
   "outputs": [],
   "source": [
    "model_pipeline2= joblib.load('XGBoost Model.pkl')"
   ]
  },
  {
   "cell_type": "code",
   "execution_count": 6,
   "metadata": {},
   "outputs": [
    {
     "name": "stdout",
     "output_type": "stream",
     "text": [
      "Predicted Crop Yield: 1.2593189477920532\n"
     ]
    }
   ],
   "source": [
    "# Predict the crop yield using the pipeline #With State dropped\n",
    "predicted_yield = model_pipeline2.predict(input_features)\n",
    "print(f'Predicted Crop Yield: {predicted_yield[0]}')"
   ]
  },
  {
   "cell_type": "code",
   "execution_count": 11,
   "metadata": {},
   "outputs": [],
   "source": [
    "import keras.backend as K\n",
    "\n",
    "def r_squared(y_true, y_pred):\n",
    "    SS_res =  K.sum(K.square(y_true - y_pred)) \n",
    "    SS_tot = K.sum(K.square(y_true - K.mean(y_true))) \n",
    "    return (1 - SS_res/(SS_tot + K.epsilon()))\n",
    "\n",
    "model_pipeline3= joblib.load('Neural Network Model.pkl')"
   ]
  },
  {
   "cell_type": "code",
   "execution_count": null,
   "metadata": {},
   "outputs": [],
   "source": [
    "##### PROCESSING THIS WOULD REQUIRE CHANGING THE INPUT FEATURES TO A NUMPY ARRAY AND MAKING SURE THE ORDER OF THE FEATURES \n",
    "##### MATCHES THE ORDER OF THE FEATURES IN THE TRAINING DATA\n",
    "##### LOTS OF ADDTL WORK. NOT WORTH IT FOR NOW.\n"
   ]
  }
 ],
 "metadata": {
  "kernelspec": {
   "display_name": "base",
   "language": "python",
   "name": "python3"
  },
  "language_info": {
   "codemirror_mode": {
    "name": "ipython",
    "version": 3
   },
   "file_extension": ".py",
   "mimetype": "text/x-python",
   "name": "python",
   "nbconvert_exporter": "python",
   "pygments_lexer": "ipython3",
   "version": "3.11.5"
  }
 },
 "nbformat": 4,
 "nbformat_minor": 2
}
